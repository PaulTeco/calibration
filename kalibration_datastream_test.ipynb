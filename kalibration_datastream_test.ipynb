{
 "cells": [
  {
   "cell_type": "markdown",
   "metadata": {},
   "source": [
    "# Imports"
   ]
  },
  {
   "cell_type": "code",
   "execution_count": 1,
   "metadata": {},
   "outputs": [],
   "source": [
    "import pandas as pd\n",
    "import requests\n",
    "import json\n",
    "import numpy as np\n",
    "import numpy.polynomial.polynomial as poly\n",
    "import matplotlib.pyplot as plt\n",
    "from scipy.stats import ks_2samp\n",
    "from datetime import datetime\n",
    "import calendar\n",
    "from scipy import stats\n",
    "import sys\n",
    "import time"
   ]
  },
  {
   "cell_type": "markdown",
   "metadata": {},
   "source": [
    "# Functions"
   ]
  },
  {
   "cell_type": "code",
   "execution_count": 2,
   "metadata": {},
   "outputs": [],
   "source": [
    "def tounixtime(datetime_input):\n",
    "    return(calendar.timegm(datetime_input.utctimetuple()))\n",
    "\n",
    "def todatetimeformat(utctime):\n",
    "    year=int(utctime[0])*1000 + int(utctime[1])*100 + int(utctime[2])*10 + int(utctime[3])\n",
    "    month=int(utctime[5])*10 + int(utctime[6])\n",
    "    day=int(utctime[8])*10 + int(utctime[9])\n",
    "    hr=int(utctime[11])*10 + int(utctime[12])\n",
    "    minute=int(utctime[14])*10 + int(utctime[15])\n",
    "    second=int(utctime[17])*10 + int(utctime[18])\n",
    "    millisecond=int(utctime[20])*100 + int(utctime[21])*10 + int(utctime[22])   \n",
    "    return(datetime(year,month,day,hr,minute,second,millisecond))\n",
    "\n",
    "def toutcformat(datetime_input):\n",
    "    tstr=str(datetime_input)\n",
    "    year=tstr[0]+tstr[1]+tstr[2]+tstr[3]\n",
    "    month=tstr[5]+tstr[6]\n",
    "    day=tstr[8]+tstr[9]\n",
    "\n",
    "    try:\n",
    "        if type(int(tstr[11]+tstr[12]))==int:\n",
    "            hour=str(tstr[11]+tstr[12])\n",
    "    except:\n",
    "        hour='00'             #no hours given\n",
    "\n",
    "    try:\n",
    "        if type(int(tstr[14]+tstr[15]))==int:\n",
    "            minute=str(tstr[14]+tstr[15])\n",
    "    except:\n",
    "        minute='00'             #no minutes given\n",
    "\n",
    "    try:\n",
    "        if type(int(tstr[17]+tstr[18]))==int:\n",
    "            second=str(tstr[17]+tstr[18])\n",
    "    except:\n",
    "        second='00'             #no seconds given\n",
    "\n",
    "    try:\n",
    "        if type(int(tstr[20]+tstr[21]+tstr[22]))==int:\n",
    "            millisecond=str(tstr[20]+tstr[21]+tstr[22])\n",
    "    except:\n",
    "        millisecond='000'       #no milliseconds given\n",
    "\n",
    "\n",
    "\n",
    "    utctime=year + '-' + month + '-' + day + 'T' + hour + ':' + minute + ':' + second + '.' + millisecond + 'Z'\n",
    "    return utctime\n",
    "\n",
    "\n",
    "def addsecutc(utctime,sec):\n",
    "    return(toutcformat(datetime.utcfromtimestamp(tounixtime(todatetimeformat(utctime))+(sec))))\n",
    "\n",
    "def addminutc(utctime,minutes):\n",
    "    return(toutcformat(datetime.utcfromtimestamp(tounixtime(todatetimeformat(utctime))+(60*minutes))))\n",
    "\n",
    "def addhrsutc(utctime,hrs):    \n",
    "    return(toutcformat(datetime.utcfromtimestamp(tounixtime(todatetimeformat(utctime))+(60*60*hrs))))\n",
    "\n",
    "def get_next_time(greater_than):\n",
    "    data_url_time = \"https://smartaqnet.teco.edu/v1.0/Datastreams('\" + datastreamid + \"')/Observations?$orderby=phenomenontime%20asc&$select=phenomenontime,result&$filter=phenomenontime%20ge%20\" + greater_than + \"&$top=1\"\n",
    "    data_time = json.loads(requests.get(data_url_time).text)[\"value\"]\n",
    "    return(data_time[0][\"phenomenonTime\"])\n",
    "\n",
    "\n",
    "def generate_kalibrated_datastream(start_from):\n",
    "\n",
    "    data_url = \"https://smartaqnet.teco.edu/v1.0/Datastreams('\" + datastreamid + \"')/Observations?$orderby=phenomenontime%20asc&$select=phenomenontime,result&$filter=phenomenontime%20ge%20\" + start_from + \"&$top=\" + str(block_size)\n",
    "\n",
    "    data = json.loads(requests.get(data_url).text)[\"value\"]\n",
    "    starting_time = data[0][\"phenomenonTime\"]\n",
    "    end_time = data[-1][\"phenomenonTime\"]\n",
    "\n",
    "    data_array = []\n",
    "    for thispiece in data: \n",
    "        data_array.append([thispiece[\"phenomenonTime\"],thispiece[\"result\"]])\n",
    "\n",
    "\n",
    "\n",
    "    distr_data[starting_time + \"/\" + end_time] = (np.array(data_array)).T\n",
    "    return(end_time)"
   ]
  },
  {
   "cell_type": "markdown",
   "metadata": {},
   "source": [
    "# Parameters"
   ]
  },
  {
   "cell_type": "code",
   "execution_count": 3,
   "metadata": {},
   "outputs": [],
   "source": [
    "distr_data = {} #the simulated datastream\n",
    "saved_time = 0 #collects the amount of minutes saved for evaluation of the script\n",
    "integrated_area=0 #area below the curve for comparison with the faster measurements\n",
    "timeshift_level_list = [] #lists to plot the timeshifts\n",
    "timeshift_time_list = []\n",
    "\n",
    "datastreamid=\"saqn:ds:d811458\"\n",
    "\n",
    "block_size = 10 #how many datapoints should be used to determine the distribution\n",
    "#block_frequency = 15 #in der simulation ja schon durch daten bestimmt ist\n",
    "\n",
    "start_at = \"2019-03-26T05:30:00.000Z\"\n",
    "end_at = addhrsutc(start_at,24)\n",
    "time_not_met = True\n",
    "\n",
    "#initialisation values for the distributions to compare\n",
    "time_km1 = get_next_time(start_at)                  #start of block k\n",
    "time_k = generate_kalibrated_datastream(time_km1)   #end of block k\n",
    "time_l = get_next_time(time_k)                      #start of block l\n",
    "time_lp1 = generate_kalibrated_datastream(time_l)   #end of block l\n",
    "\n",
    "#initial settings\n",
    "timeshift_level = 0\n",
    "countdown = 0\n",
    "\n",
    "#parameters\n",
    "countdown_max = 5 #number of compared distributions before measuring slower\n",
    "timeshift_max = 3 #timeshift stacks allowed\n",
    "timeshift_length = 60 #in seconds\n",
    "penalty = 2*timeshift_level #subtract from countdown if distributions dont match\n",
    "ks_p_threshold = 0.1 #p-value above which the kolmogorov-smirnov test will view the distributions as equal"
   ]
  },
  {
   "cell_type": "markdown",
   "metadata": {},
   "source": [
    "# Main Loop"
   ]
  },
  {
   "cell_type": "code",
   "execution_count": 4,
   "metadata": {},
   "outputs": [
    {
     "name": "stdout",
     "output_type": "stream",
     "text": [
      "Timeshift: 3 Datapoints: 385 From 03-26T05:30 at 03-27T05:27 of 03-27T05:30 \n",
      "Total Time elapsed: 11.75min\n"
     ]
    }
   ],
   "source": [
    "#add the first block as starting value to the integrated area\n",
    "\n",
    "distribution_at_k=distr_data[time_km1 + \"/\" + time_k][-1]\n",
    "k_mean = np.mean(distribution_at_k.astype(np.float))\n",
    "k_time = abs(tounixtime(todatetimeformat(time_k)) - tounixtime(todatetimeformat(time_km1)))\n",
    "\n",
    "integrated_area += k_time * k_mean\n",
    "\n",
    "benchmark_set = False\n",
    "\n",
    "\n",
    "loop_start_time = tounixtime(datetime.utcnow())\n",
    "x_format = 3600 #x axis steps in seconds\n",
    "\n",
    "#main loop that fills the (simulated) datastream distr_data\n",
    "while time_not_met:\n",
    "\n",
    "    if benchmark_set == False: \n",
    "        benchmark_distribution = distr_data[time_km1 + \"/\" + time_k][-1]\n",
    "        benchmark_set = True\n",
    "        \n",
    "    #calculate kolmogorov smirnov of the two distributions around k and around l\n",
    "    distribution_at_k=distr_data[time_km1 + \"/\" + time_k][-1]\n",
    "    distribution_at_l=distr_data[time_l + \"/\" + time_lp1][-1]\n",
    "#    ks_z_score, ks_p_value = ks_2samp(distribution_at_k, distribution_at_l) #vergleiche distribution i mit i+1\n",
    "    ks_z_score, ks_p_value = ks_2samp(benchmark_distribution, distribution_at_l) #p-value aus vergleich mit benchmark\n",
    "    \n",
    "    \n",
    "    k_mean = np.mean(distribution_at_k.astype(np.float)) #first value is included in area between blocks [1:]\n",
    "    l_mean = np.mean(distribution_at_l.astype(np.float)) #first value is included in area between blocks [1:]\n",
    "    \n",
    "    k_time = abs(tounixtime(todatetimeformat(time_k)) - tounixtime(todatetimeformat(time_km1)))\n",
    "    l_time = abs(tounixtime(todatetimeformat(time_lp1)) - tounixtime(todatetimeformat(time_l)))\n",
    "    \n",
    "    k_to_l_time = abs(tounixtime(todatetimeformat(time_l)) - tounixtime(todatetimeformat(time_k)))\n",
    "    \n",
    "    \n",
    "    #calculate area below the curve\n",
    "    #block k\n",
    "    #integrated_area +=  k_time * k_mean #comment out because it will be the l block in the next loop\n",
    "    #l block\n",
    "    integrated_area +=  l_time * l_mean\n",
    "    # area between blocks\n",
    "    integrated_area += (k_mean + l_mean) * 0.5 * k_to_l_time\n",
    "    \n",
    "    \n",
    "    #evalute the comparison\n",
    "    if ks_p_value > ks_p_threshold:\n",
    "        countdown += 1\n",
    "    else: \n",
    "        countdown -= penalty #current implementation: penalty instead of measure fast for validation and remember old setting\n",
    "        if countdown < 1:\n",
    "            countdown = 0\n",
    "            timeshift_level = 0 #measure faster. measure full speed again. \n",
    "            benchmark_set = False #reset benchmark, take new one in next round\n",
    "\n",
    "    if countdown > countdown_max: #when the countdown reaches its threshold: measure slower...\n",
    "        if timeshift_level < timeshift_max: #... if timeshift_max is not yet reached  \n",
    "            timeshift_level += 1 \n",
    "            countdown = 0\n",
    "        else:\n",
    "            countdown = countdown_max #make sure it doesnt keep counting beyond max\n",
    "    else: \n",
    "        pass\n",
    "    \n",
    "    time_jump = timeshift_length * timeshift_level #determines the pause in seconds between measuring blocks\n",
    "    \n",
    "    time_km1, time_k = [time_l, time_lp1] #sets the block km1...k as what was the block l...lp1 before\n",
    "    \n",
    "    time_l = get_next_time(addsecutc(time_k,time_jump)) #add timejump seconds to the end of period k to determine start of period l\n",
    "\n",
    "    if  tounixtime(todatetimeformat(time_l)) > tounixtime(todatetimeformat(end_at)):\n",
    "        time_not_met = False\n",
    "        break\n",
    "    else:\n",
    "        time_lp1 = generate_kalibrated_datastream(time_l) #get measurements for the block l...lp1\n",
    "        \n",
    "    saved_time += timeshift_length * timeshift_level /60 #saved time in minutes\n",
    "    #kann auch timeshift über der tageszeit angeben um zu sehen wann (nachts) der sensor langsamer misst\n",
    "    \n",
    "    sys.stdout.write(\"Timeshift: \" + str(timeshift_level) + \" Datapoints: \" + str(len(distr_data)) + \" From \" + start_at[5:-8]  + \" at \" + time_lp1[5:-8]  + \" of \" + end_at[5:-8]  + \" \\r\") \n",
    "    \n",
    "    timeshift_level_list.append(timeshift_level)\n",
    "    timeshift_time_list.append(abs(tounixtime(todatetimeformat(time_lp1)) - tounixtime(todatetimeformat(start_at)))/x_format)\n",
    "\n",
    "loop_end_time = tounixtime(datetime.utcnow())\n",
    "print(\"\")\n",
    "print(\"Total Time elapsed: \" + str((loop_end_time-loop_start_time)/60) + \"min\")"
   ]
  },
  {
   "cell_type": "markdown",
   "metadata": {},
   "source": [
    "## Comparison with the full data"
   ]
  },
  {
   "cell_type": "code",
   "execution_count": 5,
   "metadata": {},
   "outputs": [],
   "source": [
    "def hrs_from_start(array):\n",
    "    new_array = []\n",
    "    for this in array:\n",
    "        new_array.append((tounixtime(todatetimeformat(this)) - tounixtime(todatetimeformat(start_at)))/3600)\n",
    "    return(new_array)\n",
    "\n",
    "def time_from_start(array):\n",
    "    new_array = []\n",
    "    for this in array:\n",
    "        new_array.append((tounixtime(todatetimeformat(this)) - tounixtime(todatetimeformat(start_at)))/x_format)\n",
    "    return(new_array)\n",
    "\n",
    "def stuff_to_float(array):\n",
    "    new_array = []\n",
    "    for this in array:\n",
    "        new_array.append(float(this))\n",
    "    return(new_array)\n",
    "\n",
    "\n",
    "\n",
    "distr_array = np.array([])\n",
    "time_array = np.array([])\n",
    "for timespan in list(distr_data):\n",
    "    time_array = np.concatenate((time_array, time_from_start(distr_data[timespan][0])))\n",
    "    distr_array = np.concatenate((distr_array, stuff_to_float(distr_data[timespan][-1])))\n",
    "\n",
    "    \n",
    "full_data_link = \"https://smartaqnet.teco.edu/v1.0/Datastreams('\" + datastreamid + \"')/Observations?$filter=Overlaps(phenomenontime,\"+ start_at +\"/\" + end_at + \")&$orderby=phenomenontime%20asc&$count=true\"\n",
    "real_data_count = json.loads(requests.get(full_data_link).text)[\"@iot.count\"]\n",
    "real_data_list = json.loads(requests.get(full_data_link + \"&$select=phenomenontime,result&$orderby=phenomenontime%20asc&$top=\" + str(real_data_count)).text)[\"value\"] \n",
    "\n",
    "\n",
    "#calculate area below the curve \n",
    "full_data_area=0\n",
    "for i in range(1,len(real_data_list)):\n",
    "    full_data_area += real_data_list[i][\"result\"] * abs(tounixtime(todatetimeformat(real_data_list[i][\"phenomenonTime\"])) - tounixtime(todatetimeformat(real_data_list[i-1][\"phenomenonTime\"])))\n",
    "\n",
    "\n",
    "#generate time axis for plotting    \n",
    "real_data_array = []\n",
    "real_data_time_array = []\n",
    "for thiselement in list(real_data_list):\n",
    "    real_data_time_array.append((tounixtime(todatetimeformat(thiselement[\"phenomenonTime\"])) - tounixtime(todatetimeformat(start_at)))/x_format)\n",
    "    real_data_array.append(float(thiselement[\"result\"]))    "
   ]
  },
  {
   "cell_type": "markdown",
   "metadata": {},
   "source": [
    "# Evaluation"
   ]
  },
  {
   "cell_type": "code",
   "execution_count": 6,
   "metadata": {},
   "outputs": [
    {
     "name": "stdout",
     "output_type": "stream",
     "text": [
      "--------------------------------------------------\n",
      "Integrated area of reduced data: 788.55\n",
      "Integrated area of full data: 786.42\n",
      "ratio: 100.29999999999998%\n",
      "--------------------------------------------------\n",
      "Number of Measurements in reduced data: 3850\n",
      "Number of Measurements in full data: 8469\n",
      "ratio: 0.5\n",
      "--------------------------------------------------\n",
      "Amount of Minutes of downtime: 835.0\n",
      "Time saving: 57.99999999999999%\n"
     ]
    }
   ],
   "source": [
    "print(\"--------------------------------------------------\")\n",
    "print(\"Integrated area of reduced data: \" + str(round(integrated_area/1000,2)))\n",
    "print(\"Integrated area of full data: \" + str(round(full_data_area/1000,2)))\n",
    "print(\"ratio: \" + str(round(integrated_area/full_data_area,3)*100) + \"%\")\n",
    "print(\"--------------------------------------------------\")\n",
    "print(\"Number of Measurements in reduced data: \" + str(len(distr_array)))\n",
    "print(\"Number of Measurements in full data: \" + str(len(real_data_array)))\n",
    "print(\"ratio: \" + str(round(len(distr_array)/len(real_data_array),1)))\n",
    "print(\"--------------------------------------------------\")\n",
    "print(\"Amount of Minutes of downtime: \" + str(saved_time))\n",
    "print(\"Time saving: \" + str(round(saved_time/((tounixtime(todatetimeformat(end_at)) - tounixtime(todatetimeformat(start_at)))/60),3)*100) + \"%\")"
   ]
  },
  {
   "cell_type": "code",
   "execution_count": 7,
   "metadata": {},
   "outputs": [
    {
     "data": {
      "text/plain": [
       "[<matplotlib.lines.Line2D at 0x22f4397a0b8>]"
      ]
     },
     "execution_count": 7,
     "metadata": {},
     "output_type": "execute_result"
    },
    {
     "data": {
      "image/png": "[encoded data removed]",
      "text/plain": [
       "<Figure size 432x288 with 1 Axes>"
      ]
     },
     "metadata": {
      "needs_background": "light"
     },
     "output_type": "display_data"
    }
   ],
   "source": [
    "plt.plot(real_data_time_array, real_data_array, drawstyle='steps-pre') "
   ]
  },
  {
   "cell_type": "code",
   "execution_count": 8,
   "metadata": {},
   "outputs": [
    {
     "data": {
      "text/plain": [
       "[<matplotlib.lines.Line2D at 0x22f43a54278>]"
      ]
     },
     "execution_count": 8,
     "metadata": {},
     "output_type": "execute_result"
    },
    {
     "data": {
      "image/png": "[encoded data removed]",
      "text/plain": [
       "<Figure size 432x288 with 1 Axes>"
      ]
     },
     "metadata": {
      "needs_background": "light"
     },
     "output_type": "display_data"
    }
   ],
   "source": [
    "plt.plot(time_array, distr_array, drawstyle='steps-pre')"
   ]
  },
  {
   "cell_type": "code",
   "execution_count": 16,
   "metadata": {},
   "outputs": [
    {
     "data": {
      "text/plain": [
       "[<matplotlib.lines.Line2D at 0x22f44fe3780>]"
      ]
     },
     "execution_count": 16,
     "metadata": {},
     "output_type": "execute_result"
    },
    {
     "data": {
      "image/png": "[encoded data removed]",
      "text/plain": [
       "<Figure size 432x288 with 1 Axes>"
      ]
     },
     "metadata": {
      "needs_background": "light"
     },
     "output_type": "display_data"
    }
   ],
   "source": [
    "plt.plot(real_data_time_array[200:400], real_data_array[200:400], drawstyle='steps-pre')"
   ]
  },
  {
   "cell_type": "code",
   "execution_count": 17,
   "metadata": {},
   "outputs": [
    {
     "data": {
      "text/plain": [
       "[<matplotlib.lines.Line2D at 0x22f45038a90>]"
      ]
     },
     "execution_count": 17,
     "metadata": {},
     "output_type": "execute_result"
    },
    {
     "data": {
      "image/png": "[encoded data removed]",
      "text/plain": [
       "<Figure size 432x288 with 1 Axes>"
      ]
     },
     "metadata": {
      "needs_background": "light"
     },
     "output_type": "display_data"
    }
   ],
   "source": [
    "plt.plot(time_array[200:400], distr_array[200:400], drawstyle='steps-pre')"
   ]
  },
  {
   "cell_type": "code",
   "execution_count": 9,
   "metadata": {},
   "outputs": [],
   "source": [
    "# def get_fitting_index(i):\n",
    "#     value_to_match = real_data_time_array[i]\n",
    "#     for j in range(len(time_array)):\n",
    "#         if time_array[j] > value_to_match:\n",
    "#             ind=j\n",
    "#             break\n",
    "#     return(ind)\n",
    "\n",
    "# start_index = 1\n",
    "# end_index = len(real_data_time_array)-10\n",
    "\n",
    "# area_real = 0\n",
    "# area_reduced = 0\n",
    "\n",
    "# for k in range(start_index, end_index-1):\n",
    "#     area_real += (real_data_time_array[k+1] - real_data_time_array[k]) * real_data_array[k]\n",
    "\n",
    "# for k in range(get_fitting_index(start_index), get_fitting_index(end_index)-1):\n",
    "#     area_reduced += (time_array[k+1] - time_array[k]) * distr_array[k]\n",
    "    \n",
    "# print(\"Full area: \" + str(area_real*x_format/1000))\n",
    "# print(\"Calculated area: \" + str(area_reduced*x_format/1000))\n",
    "    \n"
   ]
  },
  {
   "cell_type": "code",
   "execution_count": 10,
   "metadata": {},
   "outputs": [
    {
     "ename": "NameError",
     "evalue": "name 'get_fitting_index' is not defined",
     "output_type": "error",
     "traceback": [
      "\u001b[1;31m---------------------------------------------------------------------------\u001b[0m",
      "\u001b[1;31mNameError\u001b[0m                                 Traceback (most recent call last)",
      "\u001b[1;32m<ipython-input-10-b99c0dd576b2>\u001b[0m in \u001b[0;36m<module>\u001b[1;34m\u001b[0m\n\u001b[1;32m----> 1\u001b[1;33m \u001b[0mplt\u001b[0m\u001b[1;33m.\u001b[0m\u001b[0mplot\u001b[0m\u001b[1;33m(\u001b[0m\u001b[0mtime_array\u001b[0m\u001b[1;33m[\u001b[0m\u001b[0mget_fitting_index\u001b[0m\u001b[1;33m(\u001b[0m\u001b[0mstart_index\u001b[0m\u001b[1;33m)\u001b[0m\u001b[1;33m:\u001b[0m\u001b[0mget_fitting_index\u001b[0m\u001b[1;33m(\u001b[0m\u001b[0mend_index\u001b[0m\u001b[1;33m)\u001b[0m\u001b[1;33m]\u001b[0m\u001b[1;33m,\u001b[0m \u001b[0mdistr_array\u001b[0m\u001b[1;33m[\u001b[0m\u001b[0mget_fitting_index\u001b[0m\u001b[1;33m(\u001b[0m\u001b[0mstart_index\u001b[0m\u001b[1;33m)\u001b[0m\u001b[1;33m:\u001b[0m\u001b[0mget_fitting_index\u001b[0m\u001b[1;33m(\u001b[0m\u001b[0mend_index\u001b[0m\u001b[1;33m)\u001b[0m\u001b[1;33m]\u001b[0m\u001b[1;33m,\u001b[0m \u001b[0mdrawstyle\u001b[0m\u001b[1;33m=\u001b[0m\u001b[1;34m'steps-pre'\u001b[0m\u001b[1;33m)\u001b[0m\u001b[1;33m\u001b[0m\u001b[1;33m\u001b[0m\u001b[0m\n\u001b[0m",
      "\u001b[1;31mNameError\u001b[0m: name 'get_fitting_index' is not defined"
     ]
    }
   ],
   "source": [
    "plt.plot(time_array[get_fitting_index(start_index):get_fitting_index(end_index)], distr_array[get_fitting_index(start_index):get_fitting_index(end_index)], drawstyle='steps-pre')"
   ]
  },
  {
   "cell_type": "code",
   "execution_count": null,
   "metadata": {},
   "outputs": [],
   "source": [
    "plt.plot(real_data_time_array[start_index:end_index], real_data_array[start_index:end_index], drawstyle='steps-pre')"
   ]
  },
  {
   "cell_type": "code",
   "execution_count": null,
   "metadata": {},
   "outputs": [],
   "source": [
    "plt.plot(timeshift_time_list, timeshift_level_list, drawstyle='steps-post')"
   ]
  },
  {
   "cell_type": "code",
   "execution_count": null,
   "metadata": {},
   "outputs": [],
   "source": [
    "# res_x = []\n",
    "# res_y = []\n",
    "# for j in range(5,len(time_array)):\n",
    "    \n",
    "# #     test_time = time_array[0:j]\n",
    "# #     test_val = distr_array[0:j]\n",
    "    \n",
    "#     test_val = np.random.randn(j)+10\n",
    "#     test_time = range(len(test_val))\n",
    "\n",
    "#     area_mean=np.mean(test_val[1:]) * (test_time[-1] - test_time[0])\n",
    "\n",
    "#     area = []\n",
    "#     for i in range(1,len(test_val)):\n",
    "#         area.append(test_val[i] * (test_time[i] - test_time[i-1]))\n",
    "\n",
    "\n",
    "#     res_x.append(j)\n",
    "#     res_y.append(round(area_mean/sum(area)*100,1))\n",
    "\n",
    "# print(area_mean/1000)\n",
    "# print(sum(area)/1000)\n",
    "# plt.plot(res_x,res_y)"
   ]
  },
  {
   "cell_type": "code",
   "execution_count": null,
   "metadata": {},
   "outputs": [],
   "source": [
    "# test_total_area = 0\n",
    "# len(list(distr_data))\n",
    "# for i in range(1,2):\n",
    "#     test_array_k = distr_data[list(distr_data)[i-1]]\n",
    "#     test_mean_k = np.mean(stuff_to_float(test_array_k[1]))\n",
    "#     test_start_k = tounixtime(todatetimeformat(test_array_k[0][0]))\n",
    "#     test_end_k = tounixtime(todatetimeformat(test_array_k[0][-1]))\n",
    "#     test_area_k = (test_end_k - test_start_k) * test_mean_k\n",
    "\n",
    "#     test_array_l = distr_data[list(distr_data)[i]]\n",
    "#     test_mean_l = np.mean(stuff_to_float(test_array_l[1]))\n",
    "#     test_start_l = tounixtime(todatetimeformat(test_array_l[0][0]))\n",
    "#     test_end_l = tounixtime(todatetimeformat(test_array_l[0][-1]))\n",
    "#     test_area_l = (test_end_l - test_start_l) * test_mean_l\n",
    "    \n",
    "#     test_total_area += test_area_k\n",
    "#     test_total_area += test_area_l\n",
    "#     test_total_area += (test_mean_k + test_mean_l) * 0.5 * (test_start_l - test_end_k)\n",
    "    \n",
    "#     time.sleep(.01)\n",
    "    \n",
    "#     sys.stdout.write(\"Area: \" + str(round(test_total_area,1)) + \" \\r\") \n"
   ]
  },
  {
   "cell_type": "code",
   "execution_count": null,
   "metadata": {},
   "outputs": [],
   "source": [
    "# test_total_area = 0\n",
    "# #len(list(real_data_list))\n",
    "# for i in range(1,10):\n",
    "#     test_mean_k = real_data_list[i][\"result\"]\n",
    "#     test_start_k = tounixtime(todatetimeformat(real_data_list[i-1][\"phenomenonTime\"]))\n",
    "#     test_end_k = tounixtime(todatetimeformat(real_data_list[i][\"phenomenonTime\"]))\n",
    "#     test_area_k = (test_end_k - test_start_k) * test_mean_k\n",
    "    \n",
    "#     test_total_area += test_area_k\n",
    "\n",
    "    \n",
    "#     time.sleep(.002)\n",
    "    \n",
    "#     sys.stdout.write(\"Area: \" + str(round(test_total_area,1)) + \" \\r\") \n"
   ]
  }
 ],
 "metadata": {
  "kernelspec": {
   "display_name": "Python 3",
   "language": "python",
   "name": "python3"
  },
  "language_info": {
   "codemirror_mode": {
    "name": "ipython",
    "version": 3
   },
   "file_extension": ".py",
   "mimetype": "text/x-python",
   "name": "python",
   "nbconvert_exporter": "python",
   "pygments_lexer": "ipython3",
   "version": "3.7.1"
  }
 },
 "nbformat": 4,
 "nbformat_minor": 2
}
