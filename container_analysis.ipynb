{
 "cells": [
  {
   "cell_type": "code",
   "execution_count": 54,
   "metadata": {
    "ExecuteTime": {
     "end_time": "2019-04-04T09:32:14.208509Z",
     "start_time": "2019-04-04T09:32:09.831476Z"
    },
    "code_folding": [
     0
    ]
   },
   "outputs": [],
   "source": [
    "# imports\n",
    "import pandas as pd\n",
    "import numpy as np\n",
    "import os\n",
    "import glob\n",
    "import matplotlib.pyplot as plt\n",
    "import datetime as dt\n",
    "import scipy\n",
    "from scipy.optimize import curve_fit\n",
    "from scipy.stats import pearsonr, norm, skewnorm, ks_2samp, poisson\n",
    "from scipy.special import factorial\n",
    "import matplotlib.dates as mdates\n",
    "import imp\n",
    "import numpy.random\n",
    "from sklearn.metrics import r2_score\n",
    "import matplotlib.ticker as ticker\n",
    "from collections import OrderedDict\n",
    "import pickle\n",
    "#from natsort import natsorted, ns\n",
    "from copy import deepcopy\n",
    "import random\n",
    "\n",
    "def round_nonzero(float_val):\n",
    "    return(float(\"{0:.3g}\".format(float_val)))"
   ]
  },
  {
   "cell_type": "code",
   "execution_count": 2,
   "metadata": {
    "ExecuteTime": {
     "end_time": "2019-04-04T09:32:15.055357Z",
     "start_time": "2019-04-04T09:32:15.050426Z"
    },
    "code_folding": [
     0
    ]
   },
   "outputs": [],
   "source": [
    "# # important note: all data shows local time (including daylight saving).\n",
    "# # meteo-data was manually corrected beforehand, it also shows local time including daylight saving\n",
    "\n",
    "# filename_EDM164 = 'data/SAQN_Messdaten_EDM164_OPC_002_gesamt.pickle'\n",
    "# filename_ESP8266 = 'data/data-esp8266_all_sensors.pickle'\n",
    "# filename_meteo = 'data/Meteo_21Oct-31Mai.pickle'\n",
    "# filename_dylos = 'data/dylos_reference.pickle'\n",
    "\n"
   ]
  },
  {
   "cell_type": "code",
   "execution_count": 3,
   "metadata": {
    "ExecuteTime": {
     "end_time": "2019-04-04T09:32:15.444023Z",
     "start_time": "2019-04-04T09:32:15.438993Z"
    },
    "code_folding": [
     0
    ]
   },
   "outputs": [],
   "source": [
    "#interactive\n",
    "def interactive(interactive):\n",
    "    if interactive:\n",
    "        %matplotlib\n",
    "        import matplotlib.pyplot as plt\n",
    "        plt.ion()\n",
    "    if interactive == False:\n",
    "        %matplotlib inline\n",
    "\n",
    "# convert cm to inch for figsize\n",
    "def cm2inch(value):\n",
    "    return value/2.54\n",
    "# used file formats for saving\n",
    "\n",
    "# fileformats = ['pdf', 'eps', 'png', 'svg']\n",
    "# fileformats = ['png', 'pdf']\n",
    "fileformats = ['png']\n",
    "dpi = 300\n",
    "figsize=(cm2inch(30),cm2inch(10))"
   ]
  },
  {
   "cell_type": "code",
   "execution_count": 4,
   "metadata": {
    "ExecuteTime": {
     "end_time": "2019-04-04T09:32:15.604335Z",
     "start_time": "2019-04-04T09:32:15.505694Z"
    }
   },
   "outputs": [],
   "source": [
    "interactive(False)\n",
    "# interactive(True)"
   ]
  },
  {
   "cell_type": "code",
   "execution_count": 5,
   "metadata": {
    "ExecuteTime": {
     "end_time": "2019-04-04T09:32:15.675088Z",
     "start_time": "2019-04-04T09:32:15.606121Z"
    },
    "code_folding": [
     0
    ]
   },
   "outputs": [],
   "source": [
    "# color palette for plots\n",
    "\n",
    "tableau20 = [(31, 119, 180), (174, 199, 232), (255, 127, 14), (255, 187, 120),  \n",
    "             (44, 160, 44), (152, 223, 138), (214, 39, 40), (255, 152, 150),  \n",
    "             (148, 103, 189), (197, 176, 213), (140, 86, 75), (196, 156, 148),  \n",
    "             (227, 119, 194), (247, 182, 210), (127, 127, 127), (199, 199, 199),  \n",
    "             (188, 189, 34), (219, 219, 141), (23, 190, 207), (158, 218, 229)]\n",
    "\n",
    "# Rescale to values between 0 and 1 \n",
    "for i in range(len(tableau20)):  \n",
    "    r, g, b = tableau20[i]  \n",
    "    tableau20[i] = (r / 255., g / 255., b / 255.)"
   ]
  },
  {
   "cell_type": "code",
   "execution_count": 6,
   "metadata": {
    "ExecuteTime": {
     "end_time": "2019-04-04T09:48:03.851036Z",
     "start_time": "2019-04-04T09:48:03.700795Z"
    },
    "code_folding": [
     0
    ]
   },
   "outputs": [],
   "source": [
    "# # load data from pickle files\n",
    "\n",
    "# data = {}\n",
    "# with open(filename_EDM164, 'rb') as handle:\n",
    "#     data['EDM164'] = pickle.load(handle)\n",
    "    \n",
    "# with open(filename_ESP8266, 'rb') as handle:\n",
    "#     data['ESP8266'] = pickle.load(handle)\n",
    "    \n",
    "# with open(filename_meteo, 'rb') as handle:\n",
    "#     data['meteo'] = pickle.load(handle)\n",
    "    \n",
    "# with open(filename_dylos, 'rb') as handle:\n",
    "#     data['dylos'] = pickle.load(handle)"
   ]
  },
  {
   "cell_type": "code",
   "execution_count": 7,
   "metadata": {},
   "outputs": [],
   "source": [
    "###https://matthew-brett.github.io/teaching/string_formatting.html"
   ]
  },
  {
   "cell_type": "markdown",
   "metadata": {},
   "source": [
    "# Working with the cleaned Data"
   ]
  },
  {
   "cell_type": "code",
   "execution_count": 8,
   "metadata": {},
   "outputs": [],
   "source": [
    "# all_SDS_data_cleaned = {}\n",
    "# with open(\"all_SDS_data_cleaned.pickle\", 'rb') as handle:\n",
    "#     all_SDS_data_cleaned = pickle.load(handle)\n",
    "    \n",
    "SDS_stat_calibrated = {}\n",
    "with open(\"SDS_stat_calibrated.pickle\", 'rb') as handle:\n",
    "    SDS_stat_calibrated = pickle.load(handle)"
   ]
  },
  {
   "cell_type": "code",
   "execution_count": 9,
   "metadata": {},
   "outputs": [],
   "source": [
    "calibrated_data = pd.DataFrame(index=SDS_stat_calibrated[\"ref\"].keys(),columns=[\"PM10\"])\n",
    "# for i in range(len(SDS_stat_calibrated)):\n",
    "#     time_stamp = SDS_stat_calibrated[\"ref\"].keys()[i]\n",
    "#     all_SDS_data_cleaned[\"PM10\"][time_stamp] = [x for x in all_SDS_data[\"PM10\"][i] if (np.isnan(x) != True)]\n",
    "\n",
    "for thisdate in calibrated_data[\"PM10\"].keys():\n",
    "    calibrated_data[\"PM10\"][thisdate] = []\n",
    "\n",
    "for thissensor in SDS_stat_calibrated:\n",
    "    for thisdate in SDS_stat_calibrated[thissensor].keys():\n",
    "        if np.isnan(SDS_stat_calibrated[thissensor][thisdate]) == False: #filter out nans\n",
    "            calibrated_data[\"PM10\"][thisdate].append(SDS_stat_calibrated[thissensor][thisdate])"
   ]
  },
  {
   "cell_type": "code",
   "execution_count": 10,
   "metadata": {},
   "outputs": [],
   "source": [
    "#use calibrated data\n",
    "all_SDS_data_cleaned = calibrated_data"
   ]
  },
  {
   "cell_type": "code",
   "execution_count": 11,
   "metadata": {},
   "outputs": [],
   "source": [
    "#add columns for mean, std and len of all values in that interval\n",
    "mean_temp = []\n",
    "std_temp = []\n",
    "count_temp = []\n",
    "\n",
    "for thisindex in all_SDS_data_cleaned[\"PM10\"].keys():\n",
    "    if len(all_SDS_data_cleaned[\"PM10\"][thisindex]) < 2: #drop row if it has only one value\n",
    "        all_SDS_data_cleaned = all_SDS_data_cleaned.drop(index=thisindex)\n",
    "\n",
    "for thistuple in all_SDS_data_cleaned[\"PM10\"]:\n",
    "    mean_temp.append(np.mean(thistuple))\n",
    "    std_temp.append(np.std(thistuple))\n",
    "    count_temp.append(len(thistuple))\n",
    "\n",
    "all_SDS_data_cleaned[\"mean\"] = mean_temp\n",
    "all_SDS_data_cleaned[\"std\"] = std_temp\n",
    "all_SDS_data_cleaned[\"count\"] = count_temp"
   ]
  },
  {
   "cell_type": "code",
   "execution_count": 12,
   "metadata": {},
   "outputs": [],
   "source": [
    "# sort all tuples, stds by the number of observations which they came from\n",
    "\n",
    "count_of_observations = list(set(list(all_SDS_data_cleaned[\"count\"])))\n",
    "all_dates = all_SDS_data_cleaned[\"PM10\"].keys()\n",
    "\n",
    "#create empty dicts\n",
    "tuple_list = {}\n",
    "std_list = {}\n",
    "\n",
    "#fill with empty lists\n",
    "for eachnr in count_of_observations:\n",
    "    std_list[str(eachnr)] = []\n",
    "    tuple_list[str(eachnr)] = []\n",
    "\n",
    "#fill lists with content\n",
    "for thisdate in all_dates:\n",
    "    current_count = str(all_SDS_data_cleaned[\"count\"][thisdate])\n",
    "    std_list[current_count].append(all_SDS_data_cleaned[\"std\"][thisdate])\n",
    "    tuple_list[current_count].append(all_SDS_data_cleaned[\"PM10\"][thisdate])\n",
    "\n",
    "    \n",
    "    \n",
    "    \n",
    "# calculate the mean and std of all the stds\n",
    "mean_of_std_list = {}\n",
    "std_of_std_list = {}\n",
    "\n",
    "for eachnr in std_list.keys():\n",
    "    mean_of_std_list[str(eachnr)] = np.mean(std_list[str(eachnr)])\n",
    "    std_of_std_list[str(eachnr)] = np.std(std_list[str(eachnr)])\n",
    "    "
   ]
  },
  {
   "cell_type": "code",
   "execution_count": 13,
   "metadata": {},
   "outputs": [],
   "source": [
    "# SDS_data_dates = {}    \n",
    "# log_dates = {}\n",
    "# std_list_dates = {}\n",
    "\n",
    "# # upper_cutoff = 2000.0\n",
    "# # lower_cutoff = -100.0"
   ]
  },
  {
   "cell_type": "markdown",
   "metadata": {},
   "source": [
    "## Check whether there is a significant increase in std over time"
   ]
  },
  {
   "cell_type": "code",
   "execution_count": 14,
   "metadata": {},
   "outputs": [],
   "source": [
    "# for min_data_threshold in range(2,10): #ignore if returns empty\n",
    "                \n",
    "#     SDS_data_dates[str(min_data_threshold)] = {}\n",
    "#     log_dates[str(min_data_threshold)] = {}\n",
    "#     std_list_dates[str(min_data_threshold)] = {} \n",
    "\n",
    "#     for year in [\"2017\",\"2018\"]:\n",
    "#         for month in [\"01\",\"02\",\"03\",\"04\",\"05\",\"06\",\"07\",\"08\",\"09\",\"10\",\"11\",\"12\"]:\n",
    "\n",
    "#             date = str(year) + \"-\" + str(month)\n",
    "\n",
    "#             #sort observations into monthly intervals\n",
    "#             for thisline in all_SDS_data_cleaned[\"PM10\"][date]:\n"
   ]
  },
  {
   "cell_type": "code",
   "execution_count": 15,
   "metadata": {},
   "outputs": [],
   "source": [
    "# for thisdate in month_logs[\"2\"].keys():\n",
    "#     print(thisdate + \"   \" + str(month_logs[\"2\"][thisdate][\"std_of_stds\"]))\n",
    "# #kein signifikanter alterungsprozess erkennbar... ist das überhaupt die richtige größe?"
   ]
  },
  {
   "cell_type": "markdown",
   "metadata": {},
   "source": [
    "## For two values: calculate the difference"
   ]
  },
  {
   "cell_type": "code",
   "execution_count": 16,
   "metadata": {},
   "outputs": [
    {
     "name": "stdout",
     "output_type": "stream",
     "text": [
      "Absolute Differences: False, Randomized_signs: False\n",
      "mean and std of list_of_diffs: mean: -0.8622, std: 5.8228\n",
      "mean and std of two value fits: mean: 3.6115, std: 4.6482\n"
     ]
    }
   ],
   "source": [
    "randomize_sign = False\n",
    "absolute_differences = False\n",
    "#max_difference = 1000 #absolute value\n",
    "\n",
    "\n",
    "list_of_diffs = []\n",
    "for thistuple in tuple_list[\"2\"]:\n",
    "    if absolute_differences == True:\n",
    "        the_diff = abs(thistuple[0]-thistuple[1])/2 \n",
    "    else:\n",
    "        the_diff = (thistuple[0]-thistuple[1])/2\n",
    "    if randomize_sign == True:\n",
    "        rand_sign = random.choice([1,-1])\n",
    "    else:\n",
    "        rand_sign = 1\n",
    "    list_of_diffs.append(rand_sign * the_diff)\n",
    "\n",
    "print(\"Absolute Differences: \" + str(absolute_differences) + \", Randomized_signs: \" + str(randomize_sign))\n",
    "print(\"mean and std of list_of_diffs: mean: \" + str(round(np.mean(list_of_diffs),4)) + \", std: \" + str(round(np.std(list_of_diffs),4)))\n",
    "\n",
    "print(\"mean and std of two value fits: mean: \" + str(round(mean_of_std_list[\"2\"],4)) + \", std: \" + str(round(std_of_std_list[\"2\"],4)))\n",
    "\n",
    "\n",
    "#for absolute_values = True it's the same thing: \n",
    "#taking (half) the (absolute!) differences and then fitting them\n",
    "#OR fitting a distribution on two values and taking the stds and then fitting them again. std of two value is half the diff\n",
    "#visuals below"
   ]
  },
  {
   "cell_type": "code",
   "execution_count": 17,
   "metadata": {},
   "outputs": [
    {
     "data": {
      "image/png": "[encoded data removed]",
      "text/plain": [
       "<matplotlib.figure.Figure at 0x9f707c9b70>"
      ]
     },
     "metadata": {},
     "output_type": "display_data"
    }
   ],
   "source": [
    "#%matplotlib inline\n",
    "plt.hist(list_of_diffs, bins=300)\n",
    "plt.ylabel('Count');\n",
    "plt.xlabel('Half Difference');\n",
    "plt.xlim(-10,10);"
   ]
  },
  {
   "cell_type": "code",
   "execution_count": 18,
   "metadata": {},
   "outputs": [
    {
     "data": {
      "image/png": "[encoded data removed]",
      "text/plain": [
       "<matplotlib.figure.Figure at 0x9f72f03978>"
      ]
     },
     "metadata": {},
     "output_type": "display_data"
    }
   ],
   "source": [
    "#%matplotlib inline\n",
    "plt.hist(std_list[\"2\"], bins=300)\n",
    "plt.ylabel('Count');\n",
    "plt.xlabel('Standard Deviation');\n",
    "plt.xlim(-10,10);"
   ]
  },
  {
   "cell_type": "markdown",
   "metadata": {},
   "source": [
    "# Check for Poisson Distribution"
   ]
  },
  {
   "cell_type": "code",
   "execution_count": 19,
   "metadata": {},
   "outputs": [
    {
     "data": {
      "image/png": "[encoded data removed]",
      "text/plain": [
       "<matplotlib.figure.Figure at 0x9f72f21940>"
      ]
     },
     "metadata": {},
     "output_type": "display_data"
    }
   ],
   "source": [
    "#%matplotlib inline\n",
    "plt.hist(std_list[\"2\"], bins=100)\n",
    "plt.ylabel('Count');\n",
    "plt.xlabel('Standard Deviation');\n",
    "plt.xlim(0,30);"
   ]
  },
  {
   "cell_type": "code",
   "execution_count": 20,
   "metadata": {},
   "outputs": [
    {
     "data": {
      "image/png": "[encoded data removed]",
      "text/plain": [
       "<matplotlib.figure.Figure at 0x9f731d7438>"
      ]
     },
     "metadata": {},
     "output_type": "display_data"
    },
    {
     "name": "stdout",
     "output_type": "stream",
     "text": [
      "fitted poisson mu = 2.1334\n"
     ]
    }
   ],
   "source": [
    "#check for poisson distribution\n",
    "\n",
    "# get poisson deviated random numbers\n",
    "#data = np.random.poisson(2, 1000)\n",
    "data=std_list[\"2\"]\n",
    "\n",
    "\n",
    "poisson_range = 30\n",
    "# the bins should be of integer width, because poisson is an integer distribution\n",
    "entries, bin_edges, patches = plt.hist(data, bins=poisson_range, range=[-0.5, poisson_range + 0.5], density=True)\n",
    "\n",
    "# calculate binmiddles\n",
    "bin_middles = 0.5*(bin_edges[1:] + bin_edges[:-1])\n",
    "\n",
    "# poisson function, parameter lamb is the fit parameter\n",
    "def poisson_func(k, lamb):\n",
    "    return (lamb**k/factorial(k)) * np.exp(-lamb)\n",
    "\n",
    "# fit with curve_fit\n",
    "parameters, cov_matrix = curve_fit(poisson_func, bin_middles, entries) \n",
    "\n",
    "# plot poisson-deviation with fitted parameter\n",
    "x_poisson = np.linspace(0, poisson_range, 1000)\n",
    "\n",
    "plt.plot(x_poisson, poisson_func(x_poisson, *parameters), 'r-', lw=2)\n",
    "plt.show()\n",
    "\n",
    "print(\"fitted poisson mu = \" + str(parameters[0])[:6])"
   ]
  },
  {
   "cell_type": "code",
   "execution_count": 55,
   "metadata": {},
   "outputs": [
    {
     "name": "stdout",
     "output_type": "stream",
     "text": [
      "comparing 2 and 3 tuple results: p-value: 8.89e-11\n"
     ]
    }
   ],
   "source": [
    "# KS sagt allen std_lists liegt die gleiche distribution zugrunde. das macht nur sinn, alles andere wäre unfug. \n",
    "#klappt nicht mehr, WARUM?\n",
    "\n",
    "print(\"comparing 2 and 3 tuple results: p-value: \" + str(round_nonzero(ks_2samp(std_list[\"2\"],std_list[\"3\"])[1])))"
   ]
  },
  {
   "cell_type": "code",
   "execution_count": 166,
   "metadata": {},
   "outputs": [
    {
     "name": "stdout",
     "output_type": "stream",
     "text": [
      "comparing 2 and poisson fit: p-value: 2.0015818149537049e-109\n"
     ]
    },
    {
     "data": {
      "image/png": "[encoded data removed]",
      "text/plain": [
       "<matplotlib.figure.Figure at 0x37af505470>"
      ]
     },
     "metadata": {},
     "output_type": "display_data"
    }
   ],
   "source": [
    "bincount = 10\n",
    "std_poisson = std_list[\"2\"]\n",
    "random_poisson = np.random.poisson(parameters[0], len(std_poisson))\n",
    "\n",
    "plt.hist(random_poisson, bins=bincount, range=[-0.5, bincount + 0.5]);\n",
    "plt.hist(std_poisson, bins=bincount, range=[-0.5, bincount + 0.5]);\n",
    "\n",
    "# KS sagt auch, es ist KEINE poisson distribution\n",
    "\n",
    "print(\"comparing 2 and poisson fit: p-value: \" + str(ks_2samp(std_poisson,random_poisson)[1]))"
   ]
  },
  {
   "cell_type": "markdown",
   "metadata": {},
   "source": [
    "## Analyse difference without taking abs"
   ]
  },
  {
   "cell_type": "code",
   "execution_count": 167,
   "metadata": {},
   "outputs": [
    {
     "data": {
      "image/png": "[encoded data removed]",
      "text/plain": [
       "<matplotlib.figure.Figure at 0x37af082da0>"
      ]
     },
     "metadata": {},
     "output_type": "display_data"
    }
   ],
   "source": [
    "#%matplotlib inline\n",
    "plt.hist(list_of_diffs, bins=100)\n",
    "plt.ylabel('Count');\n",
    "plt.xlabel('Half Difference');\n",
    "plt.xlim(-10,10);"
   ]
  },
  {
   "cell_type": "markdown",
   "metadata": {},
   "source": [
    "# Test for Skewed Normal Distribution"
   ]
  },
  {
   "cell_type": "code",
   "execution_count": 103,
   "metadata": {},
   "outputs": [
    {
     "data": {
      "image/png": "[encoded data removed]",
      "text/plain": [
       "<matplotlib.figure.Figure at 0x37af0efe80>"
      ]
     },
     "metadata": {},
     "output_type": "display_data"
    }
   ],
   "source": [
    "# choose some parameters\n",
    "a_skew, mu, std = skewnorm.fit(list_of_diffs)\n",
    "# Plot the PDF.\n",
    "plt.figure()\n",
    "plt.hist(list_of_diffs, bins=100, density=True)\n",
    "plt.xlim(-5,5)\n",
    "\n",
    "x = np.linspace(-10, 10, 100)\n",
    "p = skewnorm.pdf(x,a_skew, mu, std)\n",
    "plt.plot(x, p, 'k', linewidth=2);"
   ]
  },
  {
   "cell_type": "code",
   "execution_count": 104,
   "metadata": {},
   "outputs": [
    {
     "name": "stdout",
     "output_type": "stream",
     "text": [
      "a_skew = 0.6028782211907991\n",
      "mu = -0.9328649556065316\n",
      "std = 2.226976129112715\n"
     ]
    },
    {
     "data": {
      "text/plain": [
       "Ks_2sampResult(statistic=0.5089498806682577, pvalue=7.383685664958441e-23)"
      ]
     },
     "execution_count": 104,
     "metadata": {},
     "output_type": "execute_result"
    }
   ],
   "source": [
    "print(\"a_skew = \" + str(a_skew))\n",
    "print(\"mu = \" + str(mu))\n",
    "print(\"std = \" + str(std))\n",
    "\n",
    "# KS sagt es ist auch keine skewed normalverteilung\n",
    "ks_2samp(list_of_diffs,p)"
   ]
  },
  {
   "cell_type": "markdown",
   "metadata": {},
   "source": [
    "# Test wie sich differenz von normalverteilten werten verhält"
   ]
  },
  {
   "cell_type": "code",
   "execution_count": 105,
   "metadata": {},
   "outputs": [
    {
     "data": {
      "image/png": "[encoded data removed]",
      "text/plain": [
       "<matplotlib.figure.Figure at 0x37af2a1ba8>"
      ]
     },
     "metadata": {},
     "output_type": "display_data"
    }
   ],
   "source": [
    "std_test = 1\n",
    "\n",
    "x = np.linspace(-5, 5, 100)\n",
    "p = norm.pdf(x,0,std_test)\n",
    "\n",
    "y = np.random.normal(0, std_test, 10000);\n",
    "plt.hist(y, bins=100, density=True);\n",
    "\n",
    "plt.plot(x, p,'k');"
   ]
  },
  {
   "cell_type": "code",
   "execution_count": 106,
   "metadata": {},
   "outputs": [
    {
     "name": "stdout",
     "output_type": "stream",
     "text": [
      "mu: 0.00037564319389541084   std: 1.421023225694716\n"
     ]
    },
    {
     "data": {
      "image/png": "[encoded data removed]",
      "text/plain": [
       "<matplotlib.figure.Figure at 0x37aefa5550>"
      ]
     },
     "metadata": {},
     "output_type": "display_data"
    }
   ],
   "source": [
    "y_2 = np.random.normal(0, std_test, 10000);\n",
    "y_diff = y-y_2\n",
    "plt.hist(y_diff, bins=100, density=True);\n",
    "\n",
    "plt.plot(x, p, 'k', linewidth=2);\n",
    "\n",
    "mu_2, std_2 = norm.fit(y_diff)\n",
    "p_2 = norm.pdf(x, mu_2, std_2)\n",
    "plt.plot(x, p_2);\n",
    "print(\"mu: \" + str(mu_2) + \"   std: \" + str(std_2))"
   ]
  },
  {
   "cell_type": "markdown",
   "metadata": {},
   "source": [
    "### Differenz von zwei Normalverteilungen ist auch Normalverteilung mit 1.4 facher std"
   ]
  },
  {
   "cell_type": "code",
   "execution_count": 107,
   "metadata": {},
   "outputs": [
    {
     "data": {
      "image/png": "[encoded data removed]",
      "text/plain": [
       "<matplotlib.figure.Figure at 0x37aee7b7b8>"
      ]
     },
     "metadata": {},
     "output_type": "display_data"
    }
   ],
   "source": [
    "plt.hist(y_diff, bins=100, density=True);\n",
    "plt.hist(list_of_diffs, bins=100, density=True);"
   ]
  },
  {
   "cell_type": "code",
   "execution_count": 108,
   "metadata": {},
   "outputs": [
    {
     "name": "stdout",
     "output_type": "stream",
     "text": [
      "vgl mit data, p value: 0.0\n"
     ]
    }
   ],
   "source": [
    "print(\"vgl mit data, p value: \" + str(round(ks_2samp(list_of_diffs,y_diff)[1],6)))"
   ]
  },
  {
   "cell_type": "markdown",
   "metadata": {},
   "source": [
    "### KS sagt werte kommen auch nicht aus differenz von normalverteilungen"
   ]
  },
  {
   "cell_type": "markdown",
   "metadata": {},
   "source": [
    "# Calculate the difference of values from a skewed normal distribution and compare with the data"
   ]
  },
  {
   "cell_type": "code",
   "execution_count": 116,
   "metadata": {},
   "outputs": [
    {
     "data": {
      "image/png": "[encoded data removed]",
      "text/plain": [
       "<matplotlib.figure.Figure at 0x37aef9e1d0>"
      ]
     },
     "metadata": {},
     "output_type": "display_data"
    }
   ],
   "source": [
    "# guess some parameters\n",
    "a_skew, mu, std = (2,-0.7,1)\n",
    "\n",
    "#skew function for comparison\n",
    "x = np.linspace(-10, 10, 100)\n",
    "p = skewnorm.pdf(x,a_skew, mu, std)\n",
    "plt.xlim(-5,5)\n",
    "\n",
    "# Plot the PDF.\n",
    "plt.hist(list_of_diffs, bins=100, density=True)\n",
    "plt.plot(x, p, 'k', linewidth=2);"
   ]
  },
  {
   "cell_type": "code",
   "execution_count": 110,
   "metadata": {},
   "outputs": [
    {
     "data": {
      "image/png": "[encoded data removed]",
      "text/plain": [
       "<matplotlib.figure.Figure at 0x37aeea7cc0>"
      ]
     },
     "metadata": {},
     "output_type": "display_data"
    }
   ],
   "source": [
    "#code for generate random numbers based on skewed normal distribution and comparison with fit function\n",
    "\n",
    "r = skewnorm.rvs(a_skew, mu, std,size=10000)\n",
    "plt.hist(r,bins=100,density=True);\n",
    "\n",
    "plt.plot(x,p, 'k', linewidth=2);"
   ]
  },
  {
   "cell_type": "code",
   "execution_count": 111,
   "metadata": {},
   "outputs": [
    {
     "name": "stdout",
     "output_type": "stream",
     "text": [
      "Generating Distribution: \n",
      "mu: -0.7   std: 1   a_skew: 2\n",
      "Difference Distribution: \n",
      "mu: 0.0163   std: 0.9909\n"
     ]
    },
    {
     "data": {
      "image/png": "[encoded data removed]",
      "text/plain": [
       "<matplotlib.figure.Figure at 0x37adbd0668>"
      ]
     },
     "metadata": {},
     "output_type": "display_data"
    }
   ],
   "source": [
    "r_2 = skewnorm.rvs(a_skew, mu, std,size=10000)\n",
    "r_diff = r-r_2\n",
    "plt.hist(r_diff, bins=100, density=True);\n",
    "\n",
    "plt.plot(x, p, 'k', linewidth=2);\n",
    "\n",
    "mu_2, std_2 = norm.fit(r_diff)\n",
    "p_2 = norm.pdf(x, mu_2, std_2)\n",
    "plt.plot(x, p_2);\n",
    "print(\"Generating Distribution: \")\n",
    "print(\"mu: \" + str(mu) + \"   std: \" + str(std) + \"   a_skew: \" + str(a_skew))\n",
    "print(\"Difference Distribution: \")\n",
    "print(\"mu: \" + str(mu_2)[:6] + \"   std: \" + str(std_2)[:6])"
   ]
  },
  {
   "cell_type": "code",
   "execution_count": 112,
   "metadata": {},
   "outputs": [
    {
     "name": "stdout",
     "output_type": "stream",
     "text": [
      "p-value: 0.35479412490077294\n"
     ]
    }
   ],
   "source": [
    "norm_comparison = norm.rvs(mu_2, std_2, size=500)\n",
    "print(\"p-value: \" + str(ks_2samp(r_diff,norm_comparison)[1]))"
   ]
  },
  {
   "cell_type": "markdown",
   "metadata": {},
   "source": [
    "### Differenz zweier Skewed Normalverteilungen ist immer Normalverteilung (!) Skew beeinflusst nur die std"
   ]
  },
  {
   "cell_type": "code",
   "execution_count": 113,
   "metadata": {},
   "outputs": [
    {
     "data": {
      "image/png": "[encoded data removed]",
      "text/plain": [
       "<matplotlib.figure.Figure at 0x37adf80ac8>"
      ]
     },
     "metadata": {},
     "output_type": "display_data"
    }
   ],
   "source": [
    "plt.hist(r_diff, bins=100, density=True);\n",
    "plt.hist(list_of_diffs, bins=100, density=True);"
   ]
  },
  {
   "cell_type": "code",
   "execution_count": 114,
   "metadata": {},
   "outputs": [
    {
     "data": {
      "text/plain": [
       "Ks_2sampResult(statistic=0.18492124105011934, pvalue=2.344578308279521e-75)"
      ]
     },
     "execution_count": 114,
     "metadata": {},
     "output_type": "execute_result"
    }
   ],
   "source": [
    "# sehe hier möglicherweise den offset eines sensors gegenüber einem anderen \n",
    "#--> differenz in eine Richtung verschoben, müsste es zufällig machen welche zahl ich von welcher abziehe\n",
    "#--> auch mit random sign auf den differenzen klappts nicht. wird symmetrisch aber ist unten zu breit und oben zu steil\n",
    "# --> spricht aber für einen systematischen fehler: zu viele zu hohe werte? allerdings nicht nachvollziehbar, da ich\n",
    "#   differenzen zum gleichen zeitpunkt (alter) und gleicher wertehöhe anschaue... \n",
    "#   allerdings: wenn die streuung zunimmt, dann bekomme ich auch höhere differenzen mit höherer wahrscheinlichkeit!\n",
    "# --> verschieden zeiten anschauen\n",
    "# --> werthöhen unterscheiden\n",
    "\n",
    "#KS sagt werte kommen auch nicht aus differenz von normalverteilungen\n",
    "ks_2samp(list_of_diffs,r_diff)"
   ]
  },
  {
   "cell_type": "code",
   "execution_count": 115,
   "metadata": {},
   "outputs": [
    {
     "data": {
      "text/plain": [
       "(-0.015521114723458804, 2.029258330217325)"
      ]
     },
     "execution_count": 115,
     "metadata": {},
     "output_type": "execute_result"
    }
   ],
   "source": [
    "norm.fit(list_of_diffs)"
   ]
  },
  {
   "cell_type": "code",
   "execution_count": null,
   "metadata": {},
   "outputs": [],
   "source": []
  }
 ],
 "metadata": {
  "kernelspec": {
   "display_name": "Python 3",
   "language": "python",
   "name": "python3"
  },
  "language_info": {
   "codemirror_mode": {
    "name": "ipython",
    "version": 3
   },
   "file_extension": ".py",
   "mimetype": "text/x-python",
   "name": "python",
   "nbconvert_exporter": "python",
   "pygments_lexer": "ipython3",
   "version": "3.6.4"
  }
 },
 "nbformat": 4,
 "nbformat_minor": 2
}
