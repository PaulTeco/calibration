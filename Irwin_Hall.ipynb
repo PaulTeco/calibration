{
 "cells": [
  {
   "cell_type": "code",
   "execution_count": 1,
   "metadata": {},
   "outputs": [],
   "source": [
    "import random\n",
    "import matplotlib.pyplot as plt\n",
    "import numpy as np\n",
    "import scipy.stats as stats\n",
    "from scipy.stats import norm\n",
    "import requests\n",
    "import json\n",
    "\n",
    "from datetime import datetime\n",
    "import calendar\n",
    "import sys\n",
    "import time"
   ]
  },
  {
   "cell_type": "code",
   "execution_count": 2,
   "metadata": {},
   "outputs": [],
   "source": [
    "def tounixtime(datetime_input):\n",
    "    return(calendar.timegm(datetime_input.utctimetuple()))\n",
    "\n",
    "def todatetimeformat(utctime):\n",
    "    year=int(utctime[0])*1000 + int(utctime[1])*100 + int(utctime[2])*10 + int(utctime[3])\n",
    "    month=int(utctime[5])*10 + int(utctime[6])\n",
    "    day=int(utctime[8])*10 + int(utctime[9])\n",
    "    hr=int(utctime[11])*10 + int(utctime[12])\n",
    "    minute=int(utctime[14])*10 + int(utctime[15])\n",
    "    second=int(utctime[17])*10 + int(utctime[18])\n",
    "    millisecond=int(utctime[20])*100 + int(utctime[21])*10 + int(utctime[22])   \n",
    "    return(datetime(year,month,day,hr,minute,second,millisecond))\n",
    "\n",
    "def toutcformat(datetime_input):\n",
    "    tstr=str(datetime_input)\n",
    "    year=tstr[0]+tstr[1]+tstr[2]+tstr[3]\n",
    "    month=tstr[5]+tstr[6]\n",
    "    day=tstr[8]+tstr[9]\n",
    "\n",
    "    try:\n",
    "        if type(int(tstr[11]+tstr[12]))==int:\n",
    "            hour=str(tstr[11]+tstr[12])\n",
    "    except:\n",
    "        hour='00'             #no hours given       \n",
    "\n",
    "    try:\n",
    "        if type(int(tstr[14]+tstr[15]))==int:\n",
    "            minute=str(tstr[14]+tstr[15])\n",
    "    except:\n",
    "        minute='00'             #no minutes given\n",
    "\n",
    "    try:\n",
    "        if type(int(tstr[17]+tstr[18]))==int:\n",
    "            second=str(tstr[17]+tstr[18])\n",
    "    except:\n",
    "        second='00'             #no seconds given\n",
    "\n",
    "    try:\n",
    "        if type(int(tstr[20]+tstr[21]+tstr[22]))==int:\n",
    "            millisecond=str(tstr[20]+tstr[21]+tstr[22])\n",
    "    except:\n",
    "        millisecond='000'       #no milliseconds given\n",
    "\n",
    "\n",
    "\n",
    "    utctime=year + '-' + month + '-' + day + 'T' + hour + ':' + minute + ':' + second + '.' + millisecond + 'Z'\n",
    "    return utctime\n",
    "\n",
    "\n",
    "def addsecutc(utctime,sec):\n",
    "    return(toutcformat(datetime.utcfromtimestamp(tounixtime(todatetimeformat(utctime))+(sec))))\n",
    "\n",
    "\n",
    "#datetime.utcfromtimestamp()"
   ]
  },
  {
   "cell_type": "code",
   "execution_count": 3,
   "metadata": {},
   "outputs": [
    {
     "name": "stderr",
     "output_type": "stream",
     "text": [
      "C:\\ProgramData\\Anaconda3\\lib\\site-packages\\matplotlib\\axes\\_axes.py:6521: MatplotlibDeprecationWarning: \n",
      "The 'normed' kwarg was deprecated in Matplotlib 2.1 and will be removed in 3.1. Use 'density' instead.\n",
      "  alternative=\"'density'\", removal=\"3.1\")\n"
     ]
    },
    {
     "data": {
      "image/png": "[encoded data removed]",
      "text/plain": [
       "<Figure size 432x288 with 1 Axes>"
      ]
     },
     "metadata": {
      "needs_background": "light"
     },
     "output_type": "display_data"
    }
   ],
   "source": [
    "set1 = []\n",
    "nr=10\n",
    "for i in range(10000):\n",
    "    \n",
    "    point = 0\n",
    "    for k in range(1,nr+1):\n",
    "        point += random.random()\n",
    "    point = point/nr\n",
    "    \n",
    "    set1.append(point)\n",
    "\n",
    "(mu, sigma) = norm.fit(set1)\n",
    "x = np.linspace(mu - 3*sigma, mu + 3*sigma, 100)\n",
    "plt.plot(x, stats.norm.pdf(x, mu, sigma))\n",
    "\n",
    "plt.xlim(0,1)\n",
    "plt.hist(set1,bins=20, normed=True)\n",
    "\n",
    "plt.show()"
   ]
  },
  {
   "cell_type": "code",
   "execution_count": 4,
   "metadata": {},
   "outputs": [],
   "source": [
    "min_step = 15\n",
    "max_step = 3*60\n",
    "mean_step = 20"
   ]
  },
  {
   "cell_type": "code",
   "execution_count": 20,
   "metadata": {},
   "outputs": [
    {
     "name": "stdout",
     "output_type": "stream",
     "text": [
      "200.0169871228336\n",
      "-63.43921771413011\n",
      "73.92401376480984\n"
     ]
    },
    {
     "data": {
      "image/png": "[encoded data removed]",
      "text/plain": [
       "<Figure size 432x288 with 1 Axes>"
      ]
     },
     "metadata": {
      "needs_background": "light"
     },
     "output_type": "display_data"
    }
   ],
   "source": [
    "test_mean = 200\n",
    "test_width = 100\n",
    "\n",
    "test_min = test_mean - test_width\n",
    "test_max = test_mean + test_width\n",
    "test_shift = 0\n",
    "\n",
    "distr_min = []\n",
    "nr=10\n",
    "for i in range(10000):\n",
    "    \n",
    "    test_distr = 0\n",
    "    for k in range(1,nr+1):\n",
    "        test_distr += random.uniform(test_min,test_max) + test_shift\n",
    "    #    ((random.uniform(test_width-test_mean,test_width+test_mean) - (test_width-test_mean))) + test_width #/ (2*test_width))\n",
    "    test_distr = test_distr/nr\n",
    "    \n",
    "    distr_min.append(test_distr)\n",
    "\n",
    "(mu, sigma) = norm.fit(distr_min)\n",
    "x = np.linspace(mu - 3*sigma, mu + 3*sigma, 100)\n",
    "plt.plot(x, stats.norm.pdf(x, mu, sigma))\n",
    "\n",
    "print(mu)\n",
    "print(min(distr_min)-mu)\n",
    "print(max(distr_min)-mu)\n",
    "\n",
    "#plt.xlim(0,1)\n",
    "plt.hist(distr_min,bins=100, normed=True)\n",
    "plt.show()"
   ]
  },
  {
   "cell_type": "code",
   "execution_count": 6,
   "metadata": {},
   "outputs": [],
   "source": [
    "def generate_irwin_hall_number(ih_nr,ih_mean,ih_width): \n",
    "    ih_min = ih_mean - ih_width\n",
    "    ih_max = ih_mean + ih_width\n",
    "\n",
    "    ih_distr = 0\n",
    "    for k in range(1,ih_nr+1):\n",
    "        ih_distr += random.uniform(ih_min,ih_max)\n",
    "    ih_distr=ih_distr/ih_nr\n",
    "    \n",
    "    return(ih_distr)"
   ]
  },
  {
   "cell_type": "code",
   "execution_count": 7,
   "metadata": {},
   "outputs": [
    {
     "data": {
      "image/png": "[encoded data removed]",
      "text/plain": [
       "<Figure size 432x288 with 1 Axes>"
      ]
     },
     "metadata": {
      "needs_background": "light"
     },
     "output_type": "display_data"
    }
   ],
   "source": [
    "measure_minimum = 15\n",
    "measure_maximum = 25\n",
    "\n",
    "weight_min = 0.27\n",
    "weight_max = 0.73\n",
    "\n",
    "start_mean = 20\n",
    "\n",
    "distr_min = []\n",
    "distr_max = []\n",
    "\n",
    "for i in range(10000):\n",
    "    min_nr = generate_irwin_hall_number(3,start_mean,abs(start_mean-measure_minimum))\n",
    "\n",
    "    if min_nr < start_mean:\n",
    "        distr_min.append(min_nr)\n",
    "        \n",
    "    max_nr = generate_irwin_hall_number(3,start_mean,abs(start_mean-measure_maximum))\n",
    "    if max_nr > start_mean:\n",
    "           distr_max.append(max_nr)\n",
    "    \n",
    "min_hist=plt.hist(distr_min,bins=100)\n",
    "max_hist=plt.hist(distr_max,bins=100)"
   ]
  },
  {
   "cell_type": "code",
   "execution_count": 8,
   "metadata": {},
   "outputs": [
    {
     "data": {
      "image/png": "[encoded data removed]",
      "text/plain": [
       "<Figure size 432x288 with 1 Axes>"
      ]
     },
     "metadata": {
      "needs_background": "light"
     },
     "output_type": "display_data"
    }
   ],
   "source": [
    "measure_minimum = 15\n",
    "measure_maximum = 25\n",
    "\n",
    "weight_min = 0.27\n",
    "weight_max = 0.73\n",
    "\n",
    "start_mean = 20\n",
    "\n",
    "distr_min = []\n",
    "distr_max = []\n",
    "\n",
    "for i in range(10000):\n",
    "    number = generate_irwin_hall_number(3,start_mean,abs(start_mean-measure_minimum))\n",
    "\n",
    "    if min_nr < start_mean:\n",
    "        distr_min.append(min_nr)\n",
    "        \n",
    "    max_nr = generate_irwin_hall_number(3,start_mean,abs(start_mean-measure_maximum))\n",
    "    if max_nr > start_mean:\n",
    "           distr_max.append(max_nr)\n",
    "    \n",
    "min_hist=plt.hist(distr_min,bins=100)\n",
    "max_hist=plt.hist(distr_max,bins=100)"
   ]
  },
  {
   "cell_type": "code",
   "execution_count": 9,
   "metadata": {},
   "outputs": [
    {
     "name": "stdout",
     "output_type": "stream",
     "text": [
      "0.06666666666666667\n"
     ]
    },
    {
     "data": {
      "image/png": "[encoded data removed]",
      "text/plain": [
       "<Figure size 432x288 with 1 Axes>"
      ]
     },
     "metadata": {
      "needs_background": "light"
     },
     "output_type": "display_data"
    }
   ],
   "source": [
    "measure_minimum = 15\n",
    "start_mean = 20\n",
    "measure_maximum = 90\n",
    "\n",
    "print((start_mean - measure_minimum) / (measure_maximum - measure_minimum))\n",
    "\n",
    "weight_min = 2/30\n",
    "weight_max = 1-weight_min\n",
    "\n",
    "start_mean = 20\n",
    "\n",
    "test_array = []\n",
    "for i in range(100000):\n",
    "    \n",
    "    if random.random() < weight_min:\n",
    "        test_nr = -abs(generate_irwin_hall_number(3,0,abs(start_mean-measure_minimum))) + start_mean\n",
    "    else: \n",
    "        test_nr = +abs(generate_irwin_hall_number(3,0,abs(start_mean-measure_maximum))) + start_mean\n",
    "    test_array.append(test_nr)\n",
    "    \n",
    "test_hist=plt.hist(test_array,bins=100,normed=True)"
   ]
  },
  {
   "cell_type": "code",
   "execution_count": null,
   "metadata": {},
   "outputs": [],
   "source": []
  },
  {
   "cell_type": "code",
   "execution_count": 10,
   "metadata": {},
   "outputs": [],
   "source": [
    "# def ih_3(x):\n",
    "#     if -1.5<=x<=-0.5:\n",
    "#         return((0.5 *(x+1.5)**2))\n",
    "#     elif -0.5<x<=0.5:\n",
    "#         return((0.5*(-2*(x+1.5)**2 + 6*(x+1.5) - 3)))\n",
    "#     elif 0.5<x<=1.5:\n",
    "#         return((0.5*((x+1.5)**2 - 6*(x+1.5) + 9)))\n",
    "#     else:\n",
    "#         return(0)"
   ]
  },
  {
   "cell_type": "code",
   "execution_count": 11,
   "metadata": {},
   "outputs": [],
   "source": [
    "# generate_ih_3_y = []\n",
    "# generate_ih_3_x = []\n",
    "\n",
    "# for i in range(-200000,200000):\n",
    "#     generate_ih_3_y.append(ih_3(i/100000))\n",
    "#     generate_ih_3_x.append(i/100000)\n",
    "\n",
    "# plt.plot(generate_ih_3_x, generate_ih_3_y)"
   ]
  },
  {
   "cell_type": "code",
   "execution_count": 12,
   "metadata": {},
   "outputs": [],
   "source": [
    "#page = 1\n",
    "#number_of_datapoints = 1000\n",
    "\n",
    "datastreamid=\"saqn:ds:d811458\"\n",
    "\n",
    "distr_data = {}\n",
    "\n",
    "#\"2019-03-27T11:30:000Z\"\n",
    "\n",
    "def get_next_point(greater_than):\n",
    "    data_url = \"https://smartaqnet.teco.edu/v1.0/Datastreams('\" + datastreamid + \"')/Observations?$orderby=phenomenontime%20asc&$select=phenomenontime,result&$filter=phenomenontime%20ge%20\" + greater_than + \"&$top=1\"\n",
    "    data = json.loads(requests.get(data_url).text)[\"value\"]\n",
    "    return(data[0])\n",
    "\n",
    "\n",
    "distr_data = {}\n",
    "\n",
    "def get_distribution(nr_of_points, greater_than):\n",
    "\n",
    "    data_url = \"https://smartaqnet.teco.edu/v1.0/Datastreams('\" + datastreamid + \"')/Observations?$orderby=phenomenontime%20asc&$select=phenomenontime,result&$filter=phenomenontime%20ge%20\" + greater_than + \"&$top=\" + str(nr_of_points)\n",
    "\n",
    "    data = json.loads(requests.get(data_url).text)[\"value\"]\n",
    "    starting_time = data[0][\"phenomenonTime\"]\n",
    "    end_time = data[-1][\"phenomenonTime\"]\n",
    "\n",
    "\n",
    "    for i in range(len(data)):\n",
    "        data[i][\"phenomenonTime\"] = tounixtime(todatetimeformat(data[i][\"phenomenonTime\"])) - tounixtime(todatetimeformat(starting_time))\n",
    "\n",
    "        data_array = []\n",
    "    lastpiece = data[0]\n",
    "    for thispiece in data:\n",
    "        if abs( thispiece[\"result\"] - lastpiece[\"result\"] ) < 40: #remove outliers\n",
    "            data_array.append([thispiece[\"phenomenonTime\"],thispiece[\"result\"]])\n",
    "            lastpiece=thispiece\n",
    "        else:\n",
    "            pass\n",
    "\n",
    "    data_toplot = np.array(data_array)\n",
    "    x_scatter, y_scatter = data_toplot.T\n",
    "\n",
    "    z_score, p_value = stats.normaltest(y_scatter)\n",
    "\n",
    "    distr_data[starting_time + \"/\" + end_time] = [z_score, p_value, np.std(y_scatter), np.mean(y_scatter),y_scatter]\n",
    "    return([np.mean(y_scatter),np.std(y_scatter),list(y_scatter), end_time])\n"
   ]
  },
  {
   "cell_type": "code",
   "execution_count": 18,
   "metadata": {},
   "outputs": [
    {
     "name": "stdout",
     "output_type": "stream",
     "text": [
      "0.9007966695462531\n"
     ]
    },
    {
     "data": {
      "image/png": "[encoded data removed]",
      "text/plain": [
       "<Figure size 432x288 with 1 Axes>"
      ]
     },
     "metadata": {
      "needs_background": "light"
     },
     "output_type": "display_data"
    },
    {
     "name": "stdout",
     "output_type": "stream",
     "text": [
      "0.032631770636422086\n"
     ]
    },
    {
     "data": {
      "image/png": "[encoded data removed]",
      "text/plain": [
       "<Figure size 432x288 with 1 Axes>"
      ]
     },
     "metadata": {
      "needs_background": "light"
     },
     "output_type": "display_data"
    },
    {
     "name": "stdout",
     "output_type": "stream",
     "text": [
      "0.06715635154387534\n"
     ]
    },
    {
     "data": {
      "image/png": "[encoded data removed]",
      "text/plain": [
       "<Figure size 432x288 with 1 Axes>"
      ]
     },
     "metadata": {
      "needs_background": "light"
     },
     "output_type": "display_data"
    },
    {
     "name": "stdout",
     "output_type": "stream",
     "text": [
      "0.020841931176616146\n"
     ]
    },
    {
     "data": {
      "image/png": "[encoded data removed]",
      "text/plain": [
       "<Figure size 432x288 with 1 Axes>"
      ]
     },
     "metadata": {
      "needs_background": "light"
     },
     "output_type": "display_data"
    },
    {
     "name": "stdout",
     "output_type": "stream",
     "text": [
      "0.580643177611428\n"
     ]
    },
    {
     "data": {
      "image/png": "[encoded data removed]",
      "text/plain": [
       "<Figure size 432x288 with 1 Axes>"
      ]
     },
     "metadata": {
      "needs_background": "light"
     },
     "output_type": "display_data"
    },
    {
     "name": "stdout",
     "output_type": "stream",
     "text": [
      "0.580643177611428\n"
     ]
    },
    {
     "data": {
      "image/png": "[encoded data removed]",
      "text/plain": [
       "<Figure size 432x288 with 1 Axes>"
      ]
     },
     "metadata": {
      "needs_background": "light"
     },
     "output_type": "display_data"
    },
    {
     "name": "stdout",
     "output_type": "stream",
     "text": [
      "0.8045023559967425\n"
     ]
    },
    {
     "data": {
      "image/png": "[encoded data removed]",
      "text/plain": [
       "<Figure size 432x288 with 1 Axes>"
      ]
     },
     "metadata": {
      "needs_background": "light"
     },
     "output_type": "display_data"
    },
    {
     "name": "stdout",
     "output_type": "stream",
     "text": [
      "0.020841931176616146\n"
     ]
    },
    {
     "data": {
      "image/png": "[encoded data removed]",
      "text/plain": [
       "<Figure size 432x288 with 1 Axes>"
      ]
     },
     "metadata": {
      "needs_background": "light"
     },
     "output_type": "display_data"
    },
    {
     "name": "stdout",
     "output_type": "stream",
     "text": [
      "0.21267319047429045\n"
     ]
    },
    {
     "data": {
      "image/png": "[encoded data removed]",
      "text/plain": [
       "<Figure size 432x288 with 1 Axes>"
      ]
     },
     "metadata": {
      "needs_background": "light"
     },
     "output_type": "display_data"
    },
    {
     "name": "stdout",
     "output_type": "stream",
     "text": [
      "0.8369853176536324\n"
     ]
    },
    {
     "data": {
      "image/png": "[encoded data removed]",
      "text/plain": [
       "<Figure size 432x288 with 1 Axes>"
      ]
     },
     "metadata": {
      "needs_background": "light"
     },
     "output_type": "display_data"
    }
   ],
   "source": [
    "measure_minimum = 15\n",
    "start_mean = 20\n",
    "measure_maximum = 90\n",
    "\n",
    "#weight_min bei dem die verteilung stetig wird:\n",
    "#print((start_mean - measure_minimum) / (measure_maximum - measure_minimum))\n",
    "\n",
    "norm_mean, norm_dev, norm_list, next_time = get_distribution(20,\"2019-03-26T12:00:00.000Z\")\n",
    "\n",
    "new_mean = start_mean\n",
    "\n",
    "\n",
    "measuring_times = []\n",
    "\n",
    "for i in range(10):\n",
    "    \n",
    "    next_point = (get_next_point(next_time))[\"result\"]\n",
    "\n",
    "    prob_to_be_in = stats.norm.pdf(next_point,norm_mean,norm_dev)\n",
    "\n",
    "    weight_max = prob_to_be_in\n",
    "    weight_min = 1-weight_max\n",
    "\n",
    "    if random.random() < weight_min:\n",
    "        measuring_interval = -abs(generate_irwin_hall_number(3,0,abs(new_mean-measure_minimum))) + new_mean\n",
    "    else: \n",
    "        measuring_interval = +abs(generate_irwin_hall_number(3,0,abs(new_mean-measure_maximum))) + new_mean\n",
    "\n",
    "    \n",
    "    #wann bekomme ich wieder eine stabile verteilung? um damit zu vergleichen? entweder kriterien wie punkte passen nicht oder\n",
    "    #std behalten und den mean langsam mitnehmen\n",
    "    \n",
    "    next_datapoint = get_next_point(addsecutc(next_time,1))\n",
    "    \n",
    "    next_time = next_datapoint[\"phenomenonTime\"]\n",
    "    \n",
    "    test_array = []\n",
    "    print(weight_min)\n",
    "    for j in range(10000):\n",
    "    \n",
    "        if random.random() < weight_min:\n",
    "            test_nr = -abs(generate_irwin_hall_number(3,0,abs(new_mean-measure_minimum))) + new_mean\n",
    "        else: \n",
    "            test_nr = +abs(generate_irwin_hall_number(3,0,abs(new_mean-measure_maximum))) + new_mean\n",
    "        test_array.append(test_nr)\n",
    "\n",
    "\n",
    "    new_mean = measuring_interval\n",
    "    measuring_times.append(measuring_interval)\n",
    "\n",
    "    plt.figure(i)\n",
    "    test_hist=plt.hist(test_array,bins=100,normed=True)\n",
    "    plt.axvline(x=measuring_interval,color='r')\n",
    "    plt.xlim(0,100)\n",
    "    plt.show()"
   ]
  },
  {
   "cell_type": "code",
   "execution_count": 17,
   "metadata": {},
   "outputs": [
    {
     "data": {
      "text/plain": [
       "(array([ 6.,  2.,  8., 11., 20., 14., 12.,  8.,  7., 12.]),\n",
       " array([19.41324084, 26.4412886 , 33.46933635, 40.49738411, 47.52543187,\n",
       "        54.55347962, 61.58152738, 68.60957514, 75.63762289, 82.66567065,\n",
       "        89.69371841]),\n",
       " <a list of 10 Patch objects>)"
      ]
     },
     "execution_count": 17,
     "metadata": {},
     "output_type": "execute_result"
    },
    {
     "data": {
      "image/png": "[encoded data removed]",
      "text/plain": [
       "<Figure size 432x288 with 1 Axes>"
      ]
     },
     "metadata": {
      "needs_background": "light"
     },
     "output_type": "display_data"
    }
   ],
   "source": [
    "# plt.hist(measuring_times,bins=10)"
   ]
  },
  {
   "cell_type": "code",
   "execution_count": null,
   "metadata": {},
   "outputs": [],
   "source": []
  }
 ],
 "metadata": {
  "kernelspec": {
   "display_name": "Python 3",
   "language": "python",
   "name": "python3"
  },
  "language_info": {
   "codemirror_mode": {
    "name": "ipython",
    "version": 3
   },
   "file_extension": ".py",
   "mimetype": "text/x-python",
   "name": "python",
   "nbconvert_exporter": "python",
   "pygments_lexer": "ipython3",
   "version": "3.6.4"
  }
 },
 "nbformat": 4,
 "nbformat_minor": 2
}
